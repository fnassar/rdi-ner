{
  "cells": [
    {
      "cell_type": "code",
      "execution_count": null,
      "metadata": {
        "id": "YNwFbEkKC60E"
      },
      "outputs": [],
      "source": [
        "import pandas as pd\n",
        "\n",
        "data = open('/content/ANERCorp_CamelLab_test.txt').readlines()\n",
        "data2 = []\n",
        "for line in data:\n",
        "  data2.append(line.strip('\\n').split(' '))\n",
        "\n",
        "df = pd.DataFrame(data2, columns=['text', 'label'])"
      ]
    },
    {
      "cell_type": "code",
      "execution_count": null,
      "metadata": {
        "id": "zD7hesDvEzch",
        "colab": {
          "base_uri": "https://localhost:8080/",
          "height": 424
        },
        "outputId": "01acb246-814e-4845-b974-cb2c0e8dfab7"
      },
      "outputs": [
        {
          "output_type": "execute_result",
          "data": {
            "text/plain": [
              "           text   label\n",
              "0      الصالحية   B-LOC\n",
              "1        المفرق   B-LOC\n",
              "2             -       O\n",
              "3           غيث  B-PERS\n",
              "4      الطراونة  I-PERS\n",
              "...         ...     ...\n",
              "25927   الشخصية       O\n",
              "25928    للوليد  B-PERS\n",
              "25929        بن  I-PERS\n",
              "25930      طلال  I-PERS\n",
              "25931         .       O\n",
              "\n",
              "[25932 rows x 2 columns]"
            ],
            "text/html": [
              "\n",
              "  <div id=\"df-4465e31a-0a2a-4eb5-8aa6-da2adfd6e715\">\n",
              "    <div class=\"colab-df-container\">\n",
              "      <div>\n",
              "<style scoped>\n",
              "    .dataframe tbody tr th:only-of-type {\n",
              "        vertical-align: middle;\n",
              "    }\n",
              "\n",
              "    .dataframe tbody tr th {\n",
              "        vertical-align: top;\n",
              "    }\n",
              "\n",
              "    .dataframe thead th {\n",
              "        text-align: right;\n",
              "    }\n",
              "</style>\n",
              "<table border=\"1\" class=\"dataframe\">\n",
              "  <thead>\n",
              "    <tr style=\"text-align: right;\">\n",
              "      <th></th>\n",
              "      <th>text</th>\n",
              "      <th>label</th>\n",
              "    </tr>\n",
              "  </thead>\n",
              "  <tbody>\n",
              "    <tr>\n",
              "      <th>0</th>\n",
              "      <td>الصالحية</td>\n",
              "      <td>B-LOC</td>\n",
              "    </tr>\n",
              "    <tr>\n",
              "      <th>1</th>\n",
              "      <td>المفرق</td>\n",
              "      <td>B-LOC</td>\n",
              "    </tr>\n",
              "    <tr>\n",
              "      <th>2</th>\n",
              "      <td>-</td>\n",
              "      <td>O</td>\n",
              "    </tr>\n",
              "    <tr>\n",
              "      <th>3</th>\n",
              "      <td>غيث</td>\n",
              "      <td>B-PERS</td>\n",
              "    </tr>\n",
              "    <tr>\n",
              "      <th>4</th>\n",
              "      <td>الطراونة</td>\n",
              "      <td>I-PERS</td>\n",
              "    </tr>\n",
              "    <tr>\n",
              "      <th>...</th>\n",
              "      <td>...</td>\n",
              "      <td>...</td>\n",
              "    </tr>\n",
              "    <tr>\n",
              "      <th>25927</th>\n",
              "      <td>الشخصية</td>\n",
              "      <td>O</td>\n",
              "    </tr>\n",
              "    <tr>\n",
              "      <th>25928</th>\n",
              "      <td>للوليد</td>\n",
              "      <td>B-PERS</td>\n",
              "    </tr>\n",
              "    <tr>\n",
              "      <th>25929</th>\n",
              "      <td>بن</td>\n",
              "      <td>I-PERS</td>\n",
              "    </tr>\n",
              "    <tr>\n",
              "      <th>25930</th>\n",
              "      <td>طلال</td>\n",
              "      <td>I-PERS</td>\n",
              "    </tr>\n",
              "    <tr>\n",
              "      <th>25931</th>\n",
              "      <td>.</td>\n",
              "      <td>O</td>\n",
              "    </tr>\n",
              "  </tbody>\n",
              "</table>\n",
              "<p>25932 rows × 2 columns</p>\n",
              "</div>\n",
              "      <button class=\"colab-df-convert\" onclick=\"convertToInteractive('df-4465e31a-0a2a-4eb5-8aa6-da2adfd6e715')\"\n",
              "              title=\"Convert this dataframe to an interactive table.\"\n",
              "              style=\"display:none;\">\n",
              "        \n",
              "  <svg xmlns=\"http://www.w3.org/2000/svg\" height=\"24px\"viewBox=\"0 0 24 24\"\n",
              "       width=\"24px\">\n",
              "    <path d=\"M0 0h24v24H0V0z\" fill=\"none\"/>\n",
              "    <path d=\"M18.56 5.44l.94 2.06.94-2.06 2.06-.94-2.06-.94-.94-2.06-.94 2.06-2.06.94zm-11 1L8.5 8.5l.94-2.06 2.06-.94-2.06-.94L8.5 2.5l-.94 2.06-2.06.94zm10 10l.94 2.06.94-2.06 2.06-.94-2.06-.94-.94-2.06-.94 2.06-2.06.94z\"/><path d=\"M17.41 7.96l-1.37-1.37c-.4-.4-.92-.59-1.43-.59-.52 0-1.04.2-1.43.59L10.3 9.45l-7.72 7.72c-.78.78-.78 2.05 0 2.83L4 21.41c.39.39.9.59 1.41.59.51 0 1.02-.2 1.41-.59l7.78-7.78 2.81-2.81c.8-.78.8-2.07 0-2.86zM5.41 20L4 18.59l7.72-7.72 1.47 1.35L5.41 20z\"/>\n",
              "  </svg>\n",
              "      </button>\n",
              "      \n",
              "  <style>\n",
              "    .colab-df-container {\n",
              "      display:flex;\n",
              "      flex-wrap:wrap;\n",
              "      gap: 12px;\n",
              "    }\n",
              "\n",
              "    .colab-df-convert {\n",
              "      background-color: #E8F0FE;\n",
              "      border: none;\n",
              "      border-radius: 50%;\n",
              "      cursor: pointer;\n",
              "      display: none;\n",
              "      fill: #1967D2;\n",
              "      height: 32px;\n",
              "      padding: 0 0 0 0;\n",
              "      width: 32px;\n",
              "    }\n",
              "\n",
              "    .colab-df-convert:hover {\n",
              "      background-color: #E2EBFA;\n",
              "      box-shadow: 0px 1px 2px rgba(60, 64, 67, 0.3), 0px 1px 3px 1px rgba(60, 64, 67, 0.15);\n",
              "      fill: #174EA6;\n",
              "    }\n",
              "\n",
              "    [theme=dark] .colab-df-convert {\n",
              "      background-color: #3B4455;\n",
              "      fill: #D2E3FC;\n",
              "    }\n",
              "\n",
              "    [theme=dark] .colab-df-convert:hover {\n",
              "      background-color: #434B5C;\n",
              "      box-shadow: 0px 1px 3px 1px rgba(0, 0, 0, 0.15);\n",
              "      filter: drop-shadow(0px 1px 2px rgba(0, 0, 0, 0.3));\n",
              "      fill: #FFFFFF;\n",
              "    }\n",
              "  </style>\n",
              "\n",
              "      <script>\n",
              "        const buttonEl =\n",
              "          document.querySelector('#df-4465e31a-0a2a-4eb5-8aa6-da2adfd6e715 button.colab-df-convert');\n",
              "        buttonEl.style.display =\n",
              "          google.colab.kernel.accessAllowed ? 'block' : 'none';\n",
              "\n",
              "        async function convertToInteractive(key) {\n",
              "          const element = document.querySelector('#df-4465e31a-0a2a-4eb5-8aa6-da2adfd6e715');\n",
              "          const dataTable =\n",
              "            await google.colab.kernel.invokeFunction('convertToInteractive',\n",
              "                                                     [key], {});\n",
              "          if (!dataTable) return;\n",
              "\n",
              "          const docLinkHtml = 'Like what you see? Visit the ' +\n",
              "            '<a target=\"_blank\" href=https://colab.research.google.com/notebooks/data_table.ipynb>data table notebook</a>'\n",
              "            + ' to learn more about interactive tables.';\n",
              "          element.innerHTML = '';\n",
              "          dataTable['output_type'] = 'display_data';\n",
              "          await google.colab.output.renderOutput(dataTable, element);\n",
              "          const docLink = document.createElement('div');\n",
              "          docLink.innerHTML = docLinkHtml;\n",
              "          element.appendChild(docLink);\n",
              "        }\n",
              "      </script>\n",
              "    </div>\n",
              "  </div>\n",
              "  "
            ]
          },
          "metadata": {},
          "execution_count": 2
        }
      ],
      "source": [
        "# df.to_csv('test.csv', index=False)\n",
        "df"
      ]
    },
    {
      "cell_type": "code",
      "execution_count": null,
      "metadata": {
        "id": "ka5wvZF9FslS"
      },
      "outputs": [],
      "source": [
        "df=df[~df['label'].isna()]\n",
        "df=df[~df['label'].isna()]"
      ]
    },
    {
      "cell_type": "code",
      "execution_count": null,
      "metadata": {
        "id": "jvKE9n1GHqv5"
      },
      "outputs": [],
      "source": [
        "import re\n",
        "def non_arabic_ratio(line):\n",
        "    arabic_chars = re.findall('[\\u0600-\\u06FF]+', line)\n",
        "    arabic_len = sum(len(word) for word in arabic_chars)\n",
        "    return (len(line) - arabic_len) / len(line)"
      ]
    },
    {
      "cell_type": "code",
      "execution_count": null,
      "metadata": {
        "colab": {
          "base_uri": "https://localhost:8080/"
        },
        "id": "ziNtZshlG1db",
        "outputId": "0e65bf3f-4918-4692-870e-db6cb8487f63"
      },
      "outputs": [
        {
          "output_type": "stream",
          "name": "stderr",
          "text": [
            "/usr/local/lib/python3.10/dist-packages/pandas/core/dtypes/cast.py:948: VisibleDeprecationWarning: Creating an ndarray from ragged nested sequences (which is a list-or-tuple of lists-or-tuples-or ndarrays with different lengths or shapes) is deprecated. If you meant to do this, you must specify 'dtype=object' when creating the ndarray.\n",
            "  element = np.asarray(element)\n"
          ]
        }
      ],
      "source": [
        "listt={'sentence':[],'label_str':[],'num_entities':[],'num_Words':[],'num_Chars':[],'labels':[],'ratio':[]}\n",
        "sentence_List = pd.DataFrame(listt)\n",
        "labels = []\n",
        "all_labels = []\n",
        "label_str = \"\"\n",
        "num_entities = 0\n",
        "num_Words = 0\n",
        "num_Chars = 0\n",
        "num_Sentences = 0\n",
        "min_Len = 0\n",
        "max_Len = 0\n",
        "collected_sentence = \"\"\n",
        "sentence = \"\"\n",
        "i=0\n",
        "for column, item in df.iterrows():\n",
        "    # Access column name using 'column' and column values using 'values'\n",
        "   \n",
        "\n",
        "  if (item['text'] == '.' or item['text'] == '،'):\n",
        "    ratio = 0\n",
        "    if(len(collected_sentence) > 0):\n",
        "      ratio = non_arabic_ratio(collected_sentence)\n",
        "    else:\n",
        "      ratio=0\n",
        "    sentence_List.loc[len(sentence_List.index)] = [sentence, label_str, num_entities, num_Words, num_Chars, labels, ratio]\n",
        "\n",
        "    collected_sentence=\"\"\n",
        "    sentence = \"\"\n",
        "    num_entities = 0\n",
        "    num_Words = 0\n",
        "    num_Chars = 0\n",
        "    labels =[]\n",
        "    label_str = \"\"\n",
        "  else:\n",
        "    if (item['label'] !='O'):\n",
        "      num_entities+=1\n",
        "    if (item['label'] not in labels):\n",
        "      labels.append(item['label'])\n",
        "    label_str+=str(item['label'])+\" \"\n",
        "    num_Chars += len(item['text'])\n",
        "    sentence += item['text'] + \" \"\n",
        "    num_Words+=1\n",
        "    collected_sentence += item['text'] + \" \" + item['label'] + \" \"\n",
        "    if(item['label'] not in all_labels):\n",
        "      all_labels.append(item['label'])\n",
        "\n",
        "\n"
      ]
    },
    {
      "cell_type": "code",
      "source": [
        "all_labels"
      ],
      "metadata": {
        "colab": {
          "base_uri": "https://localhost:8080/"
        },
        "id": "ykDrQpUkiUHd",
        "outputId": "e100dafa-6a24-447e-ce05-7a5e75589971"
      },
      "execution_count": null,
      "outputs": [
        {
          "output_type": "execute_result",
          "data": {
            "text/plain": [
              "['B-LOC',\n",
              " 'O',\n",
              " 'B-PERS',\n",
              " 'I-PERS',\n",
              " 'B-ORG',\n",
              " 'I-LOC',\n",
              " 'I-ORG',\n",
              " 'B-MISC',\n",
              " 'I-MISC']"
            ]
          },
          "metadata": {},
          "execution_count": 18
        }
      ]
    },
    {
      "cell_type": "code",
      "execution_count": null,
      "metadata": {
        "colab": {
          "base_uri": "https://localhost:8080/",
          "height": 537
        },
        "id": "-6nRY5vKGFL1",
        "outputId": "f93ff7b6-0535-454d-8f37-d6d0e4f9465c"
      },
      "outputs": [
        {
          "output_type": "execute_result",
          "data": {
            "text/plain": [
              "                                               sentence  \\\n",
              "0     الصالحية المفرق - غيث الطراونة - أمر جلالة الم...   \n",
              "1     برند جلالته خلال اللقاء الذي جمعه وأعضاء اللجن...   \n",
              "2     مرتفع جلالته أريد ان استمع منكم عن المشاريع ال...   \n",
              "3     زادت جلالته على انه سوف يعود الى البادية الشما...   \n",
              "4     لصادرات جلالة الملك اطلق في ايار الماضي مبادرة...   \n",
              "...                                                 ...   \n",
              "1482                                          عام 2003    \n",
              "1483        على جائزة أجمل تصميم لمبنىً برجي في العالم    \n",
              "1484                                 الوزيرة ابن وابنة    \n",
              "1485                                         خالد وريم    \n",
              "1486  عقب صدر مؤخراً أول كتاب عن الحياة الشخصية للول...   \n",
              "\n",
              "                                              label_str  num_entities  \\\n",
              "0     B-LOC B-LOC O B-PERS I-PERS O O O O B-PERS I-P...             4   \n",
              "1     B-PERS O O O O O O O O O O O O O O O O O O O O...             3   \n",
              "2                      O O O O O O O O O O O O O O O O              1   \n",
              "3            O O O O O O O O O O O O O O O O O O O O O              1   \n",
              "4     O O O O O O O O O O O O O O O O O O O O O O O ...             1   \n",
              "...                                                 ...           ...   \n",
              "1482                                               O O              1   \n",
              "1483                                   O O O O O O O O              1   \n",
              "1484                                             O O O              1   \n",
              "1485                                     B-PERS B-PERS              1   \n",
              "1486              O O O O O O O O B-PERS I-PERS I-PERS              3   \n",
              "\n",
              "      num_Words  num_Chars                      labels     ratio  \n",
              "0            42        215  [B-LOC, O, B-PERS, I-PERS]  0.440318  \n",
              "1            29        159          [B-PERS, O, B-LOC]  0.386100  \n",
              "2            16         75                         [O]  0.390244  \n",
              "3            21        106                         [O]  0.372781  \n",
              "4            26        133                         [O]  0.388626  \n",
              "...         ...        ...                         ...       ...  \n",
              "1482          2          7                         [O]  0.769231  \n",
              "1483          8         35                         [O]  0.406780  \n",
              "1484          3         15                         [O]  0.375000  \n",
              "1485          2          8                    [B-PERS]  0.666667  \n",
              "1486         11         46         [O, B-PERS, I-PERS]  0.510638  \n",
              "\n",
              "[1487 rows x 7 columns]"
            ],
            "text/html": [
              "\n",
              "  <div id=\"df-204a9ba5-fb8a-4041-ab4f-b3df91e106dd\">\n",
              "    <div class=\"colab-df-container\">\n",
              "      <div>\n",
              "<style scoped>\n",
              "    .dataframe tbody tr th:only-of-type {\n",
              "        vertical-align: middle;\n",
              "    }\n",
              "\n",
              "    .dataframe tbody tr th {\n",
              "        vertical-align: top;\n",
              "    }\n",
              "\n",
              "    .dataframe thead th {\n",
              "        text-align: right;\n",
              "    }\n",
              "</style>\n",
              "<table border=\"1\" class=\"dataframe\">\n",
              "  <thead>\n",
              "    <tr style=\"text-align: right;\">\n",
              "      <th></th>\n",
              "      <th>sentence</th>\n",
              "      <th>label_str</th>\n",
              "      <th>num_entities</th>\n",
              "      <th>num_Words</th>\n",
              "      <th>num_Chars</th>\n",
              "      <th>labels</th>\n",
              "      <th>ratio</th>\n",
              "    </tr>\n",
              "  </thead>\n",
              "  <tbody>\n",
              "    <tr>\n",
              "      <th>0</th>\n",
              "      <td>الصالحية المفرق - غيث الطراونة - أمر جلالة الم...</td>\n",
              "      <td>B-LOC B-LOC O B-PERS I-PERS O O O O B-PERS I-P...</td>\n",
              "      <td>4</td>\n",
              "      <td>42</td>\n",
              "      <td>215</td>\n",
              "      <td>[B-LOC, O, B-PERS, I-PERS]</td>\n",
              "      <td>0.440318</td>\n",
              "    </tr>\n",
              "    <tr>\n",
              "      <th>1</th>\n",
              "      <td>برند جلالته خلال اللقاء الذي جمعه وأعضاء اللجن...</td>\n",
              "      <td>B-PERS O O O O O O O O O O O O O O O O O O O O...</td>\n",
              "      <td>3</td>\n",
              "      <td>29</td>\n",
              "      <td>159</td>\n",
              "      <td>[B-PERS, O, B-LOC]</td>\n",
              "      <td>0.386100</td>\n",
              "    </tr>\n",
              "    <tr>\n",
              "      <th>2</th>\n",
              "      <td>مرتفع جلالته أريد ان استمع منكم عن المشاريع ال...</td>\n",
              "      <td>O O O O O O O O O O O O O O O O</td>\n",
              "      <td>1</td>\n",
              "      <td>16</td>\n",
              "      <td>75</td>\n",
              "      <td>[O]</td>\n",
              "      <td>0.390244</td>\n",
              "    </tr>\n",
              "    <tr>\n",
              "      <th>3</th>\n",
              "      <td>زادت جلالته على انه سوف يعود الى البادية الشما...</td>\n",
              "      <td>O O O O O O O O O O O O O O O O O O O O O</td>\n",
              "      <td>1</td>\n",
              "      <td>21</td>\n",
              "      <td>106</td>\n",
              "      <td>[O]</td>\n",
              "      <td>0.372781</td>\n",
              "    </tr>\n",
              "    <tr>\n",
              "      <th>4</th>\n",
              "      <td>لصادرات جلالة الملك اطلق في ايار الماضي مبادرة...</td>\n",
              "      <td>O O O O O O O O O O O O O O O O O O O O O O O ...</td>\n",
              "      <td>1</td>\n",
              "      <td>26</td>\n",
              "      <td>133</td>\n",
              "      <td>[O]</td>\n",
              "      <td>0.388626</td>\n",
              "    </tr>\n",
              "    <tr>\n",
              "      <th>...</th>\n",
              "      <td>...</td>\n",
              "      <td>...</td>\n",
              "      <td>...</td>\n",
              "      <td>...</td>\n",
              "      <td>...</td>\n",
              "      <td>...</td>\n",
              "      <td>...</td>\n",
              "    </tr>\n",
              "    <tr>\n",
              "      <th>1482</th>\n",
              "      <td>عام 2003</td>\n",
              "      <td>O O</td>\n",
              "      <td>1</td>\n",
              "      <td>2</td>\n",
              "      <td>7</td>\n",
              "      <td>[O]</td>\n",
              "      <td>0.769231</td>\n",
              "    </tr>\n",
              "    <tr>\n",
              "      <th>1483</th>\n",
              "      <td>على جائزة أجمل تصميم لمبنىً برجي في العالم</td>\n",
              "      <td>O O O O O O O O</td>\n",
              "      <td>1</td>\n",
              "      <td>8</td>\n",
              "      <td>35</td>\n",
              "      <td>[O]</td>\n",
              "      <td>0.406780</td>\n",
              "    </tr>\n",
              "    <tr>\n",
              "      <th>1484</th>\n",
              "      <td>الوزيرة ابن وابنة</td>\n",
              "      <td>O O O</td>\n",
              "      <td>1</td>\n",
              "      <td>3</td>\n",
              "      <td>15</td>\n",
              "      <td>[O]</td>\n",
              "      <td>0.375000</td>\n",
              "    </tr>\n",
              "    <tr>\n",
              "      <th>1485</th>\n",
              "      <td>خالد وريم</td>\n",
              "      <td>B-PERS B-PERS</td>\n",
              "      <td>1</td>\n",
              "      <td>2</td>\n",
              "      <td>8</td>\n",
              "      <td>[B-PERS]</td>\n",
              "      <td>0.666667</td>\n",
              "    </tr>\n",
              "    <tr>\n",
              "      <th>1486</th>\n",
              "      <td>عقب صدر مؤخراً أول كتاب عن الحياة الشخصية للول...</td>\n",
              "      <td>O O O O O O O O B-PERS I-PERS I-PERS</td>\n",
              "      <td>3</td>\n",
              "      <td>11</td>\n",
              "      <td>46</td>\n",
              "      <td>[O, B-PERS, I-PERS]</td>\n",
              "      <td>0.510638</td>\n",
              "    </tr>\n",
              "  </tbody>\n",
              "</table>\n",
              "<p>1487 rows × 7 columns</p>\n",
              "</div>\n",
              "      <button class=\"colab-df-convert\" onclick=\"convertToInteractive('df-204a9ba5-fb8a-4041-ab4f-b3df91e106dd')\"\n",
              "              title=\"Convert this dataframe to an interactive table.\"\n",
              "              style=\"display:none;\">\n",
              "        \n",
              "  <svg xmlns=\"http://www.w3.org/2000/svg\" height=\"24px\"viewBox=\"0 0 24 24\"\n",
              "       width=\"24px\">\n",
              "    <path d=\"M0 0h24v24H0V0z\" fill=\"none\"/>\n",
              "    <path d=\"M18.56 5.44l.94 2.06.94-2.06 2.06-.94-2.06-.94-.94-2.06-.94 2.06-2.06.94zm-11 1L8.5 8.5l.94-2.06 2.06-.94-2.06-.94L8.5 2.5l-.94 2.06-2.06.94zm10 10l.94 2.06.94-2.06 2.06-.94-2.06-.94-.94-2.06-.94 2.06-2.06.94z\"/><path d=\"M17.41 7.96l-1.37-1.37c-.4-.4-.92-.59-1.43-.59-.52 0-1.04.2-1.43.59L10.3 9.45l-7.72 7.72c-.78.78-.78 2.05 0 2.83L4 21.41c.39.39.9.59 1.41.59.51 0 1.02-.2 1.41-.59l7.78-7.78 2.81-2.81c.8-.78.8-2.07 0-2.86zM5.41 20L4 18.59l7.72-7.72 1.47 1.35L5.41 20z\"/>\n",
              "  </svg>\n",
              "      </button>\n",
              "      \n",
              "  <style>\n",
              "    .colab-df-container {\n",
              "      display:flex;\n",
              "      flex-wrap:wrap;\n",
              "      gap: 12px;\n",
              "    }\n",
              "\n",
              "    .colab-df-convert {\n",
              "      background-color: #E8F0FE;\n",
              "      border: none;\n",
              "      border-radius: 50%;\n",
              "      cursor: pointer;\n",
              "      display: none;\n",
              "      fill: #1967D2;\n",
              "      height: 32px;\n",
              "      padding: 0 0 0 0;\n",
              "      width: 32px;\n",
              "    }\n",
              "\n",
              "    .colab-df-convert:hover {\n",
              "      background-color: #E2EBFA;\n",
              "      box-shadow: 0px 1px 2px rgba(60, 64, 67, 0.3), 0px 1px 3px 1px rgba(60, 64, 67, 0.15);\n",
              "      fill: #174EA6;\n",
              "    }\n",
              "\n",
              "    [theme=dark] .colab-df-convert {\n",
              "      background-color: #3B4455;\n",
              "      fill: #D2E3FC;\n",
              "    }\n",
              "\n",
              "    [theme=dark] .colab-df-convert:hover {\n",
              "      background-color: #434B5C;\n",
              "      box-shadow: 0px 1px 3px 1px rgba(0, 0, 0, 0.15);\n",
              "      filter: drop-shadow(0px 1px 2px rgba(0, 0, 0, 0.3));\n",
              "      fill: #FFFFFF;\n",
              "    }\n",
              "  </style>\n",
              "\n",
              "      <script>\n",
              "        const buttonEl =\n",
              "          document.querySelector('#df-204a9ba5-fb8a-4041-ab4f-b3df91e106dd button.colab-df-convert');\n",
              "        buttonEl.style.display =\n",
              "          google.colab.kernel.accessAllowed ? 'block' : 'none';\n",
              "\n",
              "        async function convertToInteractive(key) {\n",
              "          const element = document.querySelector('#df-204a9ba5-fb8a-4041-ab4f-b3df91e106dd');\n",
              "          const dataTable =\n",
              "            await google.colab.kernel.invokeFunction('convertToInteractive',\n",
              "                                                     [key], {});\n",
              "          if (!dataTable) return;\n",
              "\n",
              "          const docLinkHtml = 'Like what you see? Visit the ' +\n",
              "            '<a target=\"_blank\" href=https://colab.research.google.com/notebooks/data_table.ipynb>data table notebook</a>'\n",
              "            + ' to learn more about interactive tables.';\n",
              "          element.innerHTML = '';\n",
              "          dataTable['output_type'] = 'display_data';\n",
              "          await google.colab.output.renderOutput(dataTable, element);\n",
              "          const docLink = document.createElement('div');\n",
              "          docLink.innerHTML = docLinkHtml;\n",
              "          element.appendChild(docLink);\n",
              "        }\n",
              "      </script>\n",
              "    </div>\n",
              "  </div>\n",
              "  "
            ]
          },
          "metadata": {},
          "execution_count": 6
        }
      ],
      "source": [
        "sentence_List"
      ]
    },
    {
      "cell_type": "code",
      "execution_count": null,
      "metadata": {
        "colab": {
          "base_uri": "https://localhost:8080/"
        },
        "id": "YXXOejVcvfZa",
        "outputId": "5b35a51f-bd25-41ad-8883-bbfde390256e"
      },
      "outputs": [
        {
          "output_type": "stream",
          "name": "stdout",
          "text": [
            "7 97 465 1.0\n",
            "0 0 0 0.0\n"
          ]
        }
      ],
      "source": [
        "num_entities_max = max(sentence_List['num_entities'])\n",
        "num_Words_max = max(sentence_List['num_Words'])\n",
        "num_Chars_max = max(sentence_List['num_Chars'])\n",
        "ratio_max = max(sentence_List['ratio'])\n",
        "\n",
        "print(num_entities_max,num_Words_max,num_Chars_max,ratio_max)\n",
        "\n",
        "num_entities_min = min(sentence_List['num_entities'])\n",
        "num_Words_min = min(sentence_List['num_Words'])\n",
        "num_Chars_min = min(sentence_List['num_Chars'])\n",
        "ratio_min = min(sentence_List['ratio'])\n",
        "\n",
        "print(num_entities_min,num_Words_min,num_Chars_min,ratio_min)\n"
      ]
    },
    {
      "cell_type": "code",
      "source": [
        "sentence_List['num_Chars'].hist()\n",
        "sentence_List['sentence'].str.len().hist()\n",
        "\n",
        "sentence_List['num_Words'].hist()"
      ],
      "metadata": {
        "colab": {
          "base_uri": "https://localhost:8080/",
          "height": 447
        },
        "id": "aDmaF34PcODE",
        "outputId": "3760ddb8-6606-4b74-e32c-4f568e7339f7"
      },
      "execution_count": null,
      "outputs": [
        {
          "output_type": "execute_result",
          "data": {
            "text/plain": [
              "<Axes: >"
            ]
          },
          "metadata": {},
          "execution_count": 17
        },
        {
          "output_type": "display_data",
          "data": {
            "text/plain": [
              "<Figure size 640x480 with 1 Axes>"
            ],
            "image/png": "[encoded data removed]"
          },
          "metadata": {}
        }
      ]
    },
    {
      "cell_type": "code",
      "source": [
        "sentence_List['labels'].str.len().hist()"
      ],
      "metadata": {
        "colab": {
          "base_uri": "https://localhost:8080/",
          "height": 447
        },
        "id": "YcH5ieQ1cZ_l",
        "outputId": "83f92614-0738-4844-b5a5-7b713ded8c0c"
      },
      "execution_count": null,
      "outputs": [
        {
          "output_type": "execute_result",
          "data": {
            "text/plain": [
              "<Axes: >"
            ]
          },
          "metadata": {},
          "execution_count": 9
        },
        {
          "output_type": "display_data",
          "data": {
            "text/plain": [
              "<Figure size 640x480 with 1 Axes>"
            ],
            "image/png": "[encoded data removed]"
          },
          "metadata": {}
        }
      ]
    },
    {
      "cell_type": "code",
      "source": [
        "\n",
        "import numpy as np\n",
        "\n",
        "sentence_List['sentence'].str.split().apply(lambda x : [len(i) for i in x]).map(lambda x: np.mean(x)).hist()\n",
        "# sentence_List['num_Words'].hist()\n",
        "df['text'].str.len().hist()\n",
        "  \n",
        "# sentence_List['sentence'].np.mean().hist()"
      ],
      "metadata": {
        "colab": {
          "base_uri": "https://localhost:8080/",
          "height": 447
        },
        "id": "aSEoppZZciJz",
        "outputId": "6bcee405-3860-4ac7-d33c-7c79234adce6"
      },
      "execution_count": null,
      "outputs": [
        {
          "output_type": "execute_result",
          "data": {
            "text/plain": [
              "<Axes: >"
            ]
          },
          "metadata": {},
          "execution_count": 23
        },
        {
          "output_type": "display_data",
          "data": {
            "text/plain": [
              "<Figure size 640x480 with 1 Axes>"
            ],
            "image/png": "[encoded data removed]"
          },
          "metadata": {}
        }
      ]
    },
    {
      "cell_type": "code",
      "source": [
        "\n",
        "import numpy as np\n",
        "sentence_List['label_str'].str.split().apply(lambda x : [len(i) for i in x]).map(lambda x: np.mean(x)).hist()\n",
        "# sentence_List['label_str'].np.mean(x).hist()"
      ],
      "metadata": {
        "colab": {
          "base_uri": "https://localhost:8080/",
          "height": 447
        },
        "id": "I9YBMMzsdtiX",
        "outputId": "efb06f5b-4f14-44ea-a7c4-013a90bbcd47"
      },
      "execution_count": null,
      "outputs": [
        {
          "output_type": "execute_result",
          "data": {
            "text/plain": [
              "<Axes: >"
            ]
          },
          "metadata": {},
          "execution_count": 27
        },
        {
          "output_type": "display_data",
          "data": {
            "text/plain": [
              "<Figure size 640x480 with 1 Axes>"
            ],
            "image/png": "[encoded data removed]"
          },
          "metadata": {}
        }
      ]
    },
    {
      "cell_type": "code",
      "source": [],
      "metadata": {
        "id": "U0P7w0nzl5jw"
      },
      "execution_count": null,
      "outputs": []
    }
  ],
  "metadata": {
    "accelerator": "GPU",
    "colab": {
      "provenance": []
    },
    "kernelspec": {
      "display_name": "Python 3",
      "name": "python3"
    },
    "language_info": {
      "name": "python"
    }
  },
  "nbformat": 4,
  "nbformat_minor": 0
}