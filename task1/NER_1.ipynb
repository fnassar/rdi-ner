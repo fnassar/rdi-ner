{
  "nbformat": 4,
  "nbformat_minor": 0,
  "metadata": {
    "colab": {
      "provenance": [],
      "collapsed_sections": [
        "mzIjTwl4zFrC",
        "SiE3PEOezKec"
      ]
    },
    "kernelspec": {
      "name": "python3",
      "display_name": "Python 3"
    },
    "language_info": {
      "name": "python"
    }
  },
  "cells": [
    {
      "cell_type": "markdown",
      "source": [
        "# Entity Per Line"
      ],
      "metadata": {
        "id": "w5CB06JezOM7"
      }
    },
    {
      "cell_type": "code",
      "source": [
        "data = open('/content/drive/MyDrive/Colab Notebooks/ANERcorp-CamelLabSplits/ANERCorp_CamelLab_train.txt').readlines()"
      ],
      "metadata": {
        "id": "Nu0AZR66uRkw"
      },
      "execution_count": 1,
      "outputs": []
    },
    {
      "cell_type": "code",
      "source": [
        "## make dictionary  key --> word , value --> label \n",
        "word2label={}\n",
        "for line in data:\n",
        "    try:\n",
        "        if ' '.join(line.strip().split()[:-1]) not in word2label.keys():\n",
        "            word2label[' '.join(line.strip().split()[:-1])]=line.strip().split()[-1]\n",
        "    except :\n",
        "        pass    "
      ],
      "metadata": {
        "id": "TnyxDAsIubE1"
      },
      "execution_count": 2,
      "outputs": []
    },
    {
      "cell_type": "code",
      "source": [
        "## seperate sentences \n",
        "l=[]\n",
        "sentences=[]\n",
        "for line in data:\n",
        "    try:\n",
        "        l.append(line.strip().split()[0]) \n",
        "        if line.strip().split()[0]=='.':\n",
        "            sentences.append(' '.join(l[:-1]))\n",
        "            l=[]\n",
        "    except:\n",
        "        pass  "
      ],
      "metadata": {
        "id": "fAuAHB19udWf"
      },
      "execution_count": 3,
      "outputs": []
    },
    {
      "cell_type": "code",
      "source": [
        "list(word2label.items())[100:200]"
      ],
      "metadata": {
        "colab": {
          "base_uri": "https://localhost:8080/"
        },
        "id": "Wi1HALe3ufs_",
        "outputId": "99c61313-be81-4245-9566-664db1a4b2e0"
      },
      "execution_count": 4,
      "outputs": [
        {
          "output_type": "execute_result",
          "data": {
            "text/plain": [
              "[('هو', 'O'),\n",
              " ('الحالالان', 'O'),\n",
              " ('يصل', 'O'),\n",
              " ('عدد', 'O'),\n",
              " ('الجديدة', 'O'),\n",
              " ('2.3', 'O'),\n",
              " ('بالمقارنة', 'O'),\n",
              " ('بـ34.3', 'O'),\n",
              " ('الماضي', 'O'),\n",
              " ('تكهن', 'O'),\n",
              " ('بأن', 'O'),\n",
              " ('سوف', 'O'),\n",
              " ('تنتج', 'O'),\n",
              " ('خمس', 'O'),\n",
              " ('الشهور', 'O'),\n",
              " ('الاثني', 'O'),\n",
              " ('عشر', 'O'),\n",
              " ('القادمة', 'O'),\n",
              " ('فإن', 'O'),\n",
              " ('يقل', 'O'),\n",
              " ('عن', 'O'),\n",
              " ('إنتاج', 'O'),\n",
              " ('الذي', 'O'),\n",
              " ('بلغ', 'O'),\n",
              " ('3.5', 'O'),\n",
              " ('ركاب', 'O'),\n",
              " ('ثالث', 'O'),\n",
              " ('أفضل', 'O'),\n",
              " ('نتيجة', 'O'),\n",
              " ('تاريخ', 'O'),\n",
              " ('أهم', 'O'),\n",
              " ('رجح', 'O'),\n",
              " ('الممثل', 'O'),\n",
              " ('الأعلى', 'O'),\n",
              " ('للأمن', 'O'),\n",
              " ('والسياسة', 'O'),\n",
              " ('الخارجية', 'O'),\n",
              " ('الأوروبي', 'O'),\n",
              " ('خافيير', 'B-PERS'),\n",
              " ('سولانا', 'I-PERS'),\n",
              " ('يتوصل', 'O'),\n",
              " ('مجلس', 'B-ORG'),\n",
              " ('الأمن', 'I-ORG'),\n",
              " ('الأسبوع', 'O'),\n",
              " ('المقبل', 'O'),\n",
              " ('إلى', 'O'),\n",
              " ('حل', 'O'),\n",
              " ('للأزمة', 'O'),\n",
              " ('الناشبة', 'O'),\n",
              " ('الاعتداء', 'O'),\n",
              " ('الإسرائيلي', 'O'),\n",
              " ('المتواصل', 'O'),\n",
              " ('منذ', 'O'),\n",
              " ('ثمانية', 'O'),\n",
              " ('أيام', 'O'),\n",
              " ('على', 'O'),\n",
              " ('لبنان', 'B-LOC'),\n",
              " ('خلال', 'O'),\n",
              " ('مؤتمر', 'O'),\n",
              " ('صحفي', 'O'),\n",
              " ('القاهرة', 'B-LOC'),\n",
              " ('بعد', 'O'),\n",
              " ('لقائه', 'O'),\n",
              " ('الرئيس', 'O'),\n",
              " ('حسني', 'B-PERS'),\n",
              " ('مبارك', 'I-PERS'),\n",
              " ('قد', 'O'),\n",
              " ('يتبنى', 'O'),\n",
              " ('قرارا', 'O'),\n",
              " ('حول', 'O'),\n",
              " ('النزاع', 'O'),\n",
              " ('،', 'O'),\n",
              " ('داعيا', 'O'),\n",
              " ('بذل', 'O'),\n",
              " ('الجهود', 'O'),\n",
              " ('لأجل', 'O'),\n",
              " ('إنهاء', 'O'),\n",
              " ('ووصف', 'O'),\n",
              " ('قام', 'O'),\n",
              " ('بجولة', 'O'),\n",
              " ('شملت', 'O'),\n",
              " ('وإسرائيل', 'B-LOC'),\n",
              " ('المعاناة', 'O'),\n",
              " ('الحالية', 'O'),\n",
              " ('بأنها', 'O'),\n",
              " ('أمر', 'O'),\n",
              " ('مروع', 'O'),\n",
              " ('ودعا', 'O'),\n",
              " ('الجميع', 'O'),\n",
              " ('لبذل', 'O'),\n",
              " ('اللازمة', 'O'),\n",
              " ('لوضع', 'O'),\n",
              " ('حد', 'O'),\n",
              " ('لإراقة', 'O'),\n",
              " ('الدماء', 'O'),\n",
              " ('خطة', 'O'),\n",
              " ('أنان', 'B-PERS'),\n",
              " ('و', 'O'),\n",
              " ('نيويورك', 'B-LOC'),\n",
              " ('دعا', 'O')]"
            ]
          },
          "metadata": {},
          "execution_count": 4
        }
      ]
    },
    {
      "cell_type": "code",
      "source": [
        "## get labels \n",
        "labels=list(set(word2label.values()))\n",
        "labels"
      ],
      "metadata": {
        "colab": {
          "base_uri": "https://localhost:8080/"
        },
        "id": "biFo09u-uh4V",
        "outputId": "b8b12d85-bb92-47bb-8835-7c752555d88a"
      },
      "execution_count": 5,
      "outputs": [
        {
          "output_type": "execute_result",
          "data": {
            "text/plain": [
              "['I-LOC',\n",
              " 'B-PERS',\n",
              " 'I-PERS',\n",
              " 'I-MISC',\n",
              " 'B-ORG',\n",
              " 'B-LOC',\n",
              " 'O',\n",
              " 'I-ORG',\n",
              " 'B-MISC']"
            ]
          },
          "metadata": {},
          "execution_count": 5
        }
      ]
    },
    {
      "cell_type": "code",
      "source": [
        "# Modify the labels\n",
        "for i, label in enumerate(labels):\n",
        "  if label in ['B-LO','B-LOCI-PE','B-L','B-LOC']:\n",
        "    labels[i] = 'B-LOC'\n",
        "  elif label in ['B-PERs', 'B-ERS', 'B-PE','B-PERS','B-PER']:\n",
        "    labels[i] = 'B-PER'\n",
        "  elif label in ['B-O', 'B-OR', 'B-OEG','B-ORG']:\n",
        "    labels[i] = 'B-ORG'\n",
        "  elif label in ['B-MISC','B-MI','B-M','B-MIS']:\n",
        "    labels[i] = 'B-MIS'\n",
        "  elif label in ['I-LO','I-LOC']:\n",
        "    labels[i] = 'I-LOC'\n",
        "  elif label in ['I-P', 'I-PE','I-PERS', 'I-PER']:\n",
        "    labels[i] = 'I-PER'\n",
        "  elif label in ['I-OR', 'I-O','I-ORG']:\n",
        "    labels[i] = 'I-ORG'\n",
        "  elif label in ['I-M','I-MISC','I-MI', 'i-misc','I-MIS']:\n",
        "    labels[i] = 'I-MIS'\n",
        "  else:\n",
        "    labels[i] = 'O'\n",
        "  \n",
        "\n",
        "# Print the modified labels\n",
        "labels"
      ],
      "metadata": {
        "colab": {
          "base_uri": "https://localhost:8080/"
        },
        "id": "dQrr04ro2Myg",
        "outputId": "ed80653b-f676-40cd-821c-7a371eeab1a1"
      },
      "execution_count": 6,
      "outputs": [
        {
          "output_type": "execute_result",
          "data": {
            "text/plain": [
              "['I-LOC', 'B-PER', 'I-PER', 'I-MIS', 'B-ORG', 'B-LOC', 'O', 'I-ORG', 'B-MIS']"
            ]
          },
          "metadata": {},
          "execution_count": 6
        }
      ]
    },
    {
      "cell_type": "code",
      "source": [
        "sent=sentences[19]\n",
        "sent"
      ],
      "metadata": {
        "colab": {
          "base_uri": "https://localhost:8080/",
          "height": 36
        },
        "id": "LyKVzgCXvTRE",
        "outputId": "9917750d-bc11-43cf-937b-3b929ab4438b"
      },
      "execution_count": 7,
      "outputs": [
        {
          "output_type": "execute_result",
          "data": {
            "text/plain": [
              "'تشاؤم السنيورة وفي بيروت شكر رئيس الحكومة أنان في اتصال هاتفي على اهتمامه بلبنان ، وأبدى أمس تشاؤمه باحتمال التوصل إلى حل قريب للحرب الإسرائيلية على البلاد'"
            ],
            "application/vnd.google.colaboratory.intrinsic+json": {
              "type": "string"
            }
          },
          "metadata": {},
          "execution_count": 7
        }
      ]
    },
    {
      "cell_type": "code",
      "source": [
        "len(sent)"
      ],
      "metadata": {
        "colab": {
          "base_uri": "https://localhost:8080/"
        },
        "id": "VwcZM8FUv48C",
        "outputId": "fc479b41-12d7-4d2d-f77a-be28728c75f1"
      },
      "execution_count": 8,
      "outputs": [
        {
          "output_type": "execute_result",
          "data": {
            "text/plain": [
              "155"
            ]
          },
          "metadata": {},
          "execution_count": 8
        }
      ]
    },
    {
      "cell_type": "code",
      "source": [
        "training_data=[]\n",
        "for sent in sentences:\n",
        "    words=sent.split()\n",
        "    l=[]\n",
        "    for word in words:\n",
        "      word_info=(sent.find(word),sent.find(word)+len(word),word2label[word])\n",
        "      l.append(word_info)\n",
        "\n",
        "    training_data.append((sent,{\"entities\":l}))"
      ],
      "metadata": {
        "id": "0MytT1yQv-2Y"
      },
      "execution_count": 9,
      "outputs": []
    },
    {
      "cell_type": "code",
      "source": [
        "training_data[:3]"
      ],
      "metadata": {
        "colab": {
          "base_uri": "https://localhost:8080/"
        },
        "id": "xPagZohMwCTv",
        "outputId": "6d8259ec-44fc-4099-dc14-378e911ecf7d"
      },
      "execution_count": 10,
      "outputs": [
        {
          "output_type": "execute_result",
          "data": {
            "text/plain": [
              "[('فرانكفورت (د ب أ) أعلن اتحاد صناعة السيارات في ألمانيا امس الاول أن شركات صناعة السيارات في ألمانيا تواجه عاما صعبا في ظل ركود السوق الداخلية والصادرات وهي تسعي لان يبلغ الانتاج حوالي خمسة ملايين سيارة في عام 2002',\n",
              "  {'entities': [(0, 9, 'B-LOC'),\n",
              "    (10, 12, 'O'),\n",
              "    (13, 14, 'O'),\n",
              "    (15, 17, 'O'),\n",
              "    (18, 22, 'O'),\n",
              "    (23, 28, 'B-ORG'),\n",
              "    (29, 34, 'I-ORG'),\n",
              "    (35, 43, 'I-ORG'),\n",
              "    (44, 46, 'O'),\n",
              "    (47, 54, 'B-LOC'),\n",
              "    (55, 58, 'O'),\n",
              "    (59, 64, 'O'),\n",
              "    (65, 67, 'O'),\n",
              "    (68, 73, 'O'),\n",
              "    (29, 34, 'I-ORG'),\n",
              "    (35, 43, 'I-ORG'),\n",
              "    (44, 46, 'O'),\n",
              "    (47, 54, 'B-LOC'),\n",
              "    (100, 105, 'O'),\n",
              "    (106, 110, 'O'),\n",
              "    (111, 115, 'O'),\n",
              "    (44, 46, 'O'),\n",
              "    (119, 121, 'O'),\n",
              "    (122, 126, 'O'),\n",
              "    (127, 132, 'O'),\n",
              "    (133, 141, 'O'),\n",
              "    (142, 151, 'O'),\n",
              "    (152, 155, 'O'),\n",
              "    (156, 160, 'O'),\n",
              "    (161, 164, 'O'),\n",
              "    (165, 169, 'O'),\n",
              "    (170, 177, 'O'),\n",
              "    (178, 183, 'O'),\n",
              "    (184, 188, 'O'),\n",
              "    (189, 195, 'O'),\n",
              "    (196, 201, 'O'),\n",
              "    (44, 46, 'O'),\n",
              "    (106, 109, 'O'),\n",
              "    (209, 213, 'O')]}),\n",
              " ('وقال رئيس الاتحاد برند جوتشولك عند إعلان آخر تقرير سنوي للاتحاد إن مستقبل السوق مازال يفتقر إلي الخطوط الواضحة',\n",
              "  {'entities': [(0, 4, 'O'),\n",
              "    (5, 9, 'O'),\n",
              "    (10, 17, 'O'),\n",
              "    (18, 22, 'B-PERS'),\n",
              "    (23, 30, 'I-PERS'),\n",
              "    (31, 34, 'O'),\n",
              "    (35, 40, 'O'),\n",
              "    (41, 44, 'O'),\n",
              "    (45, 50, 'O'),\n",
              "    (51, 55, 'O'),\n",
              "    (56, 63, 'O'),\n",
              "    (64, 66, 'O'),\n",
              "    (67, 73, 'O'),\n",
              "    (74, 79, 'O'),\n",
              "    (80, 85, 'O'),\n",
              "    (86, 91, 'O'),\n",
              "    (92, 95, 'O'),\n",
              "    (96, 102, 'O'),\n",
              "    (103, 110, 'O')]}),\n",
              " ('وعلي الرغم من أنه قال أنه يتوقع أن تظل صادرات السيارات عند مستوي مرتفع هذا العام فإنه يبدو من غير المحتمل أن تصل إلي مستوي سجل نموها عام 2001 عندما زادت صادرات سيارات الركاب بنسبة ستة في المائة لتصل إلي 6.3 مليون سيارة',\n",
              "  {'entities': [(0, 4, 'O'),\n",
              "    (5, 10, 'O'),\n",
              "    (11, 13, 'O'),\n",
              "    (14, 17, 'O'),\n",
              "    (18, 21, 'O'),\n",
              "    (14, 17, 'O'),\n",
              "    (26, 31, 'O'),\n",
              "    (14, 16, 'O'),\n",
              "    (35, 38, 'O'),\n",
              "    (39, 45, 'O'),\n",
              "    (46, 54, 'I-ORG'),\n",
              "    (55, 58, 'O'),\n",
              "    (59, 64, 'O'),\n",
              "    (65, 70, 'O'),\n",
              "    (71, 74, 'O'),\n",
              "    (75, 80, 'O'),\n",
              "    (81, 85, 'O'),\n",
              "    (86, 90, 'O'),\n",
              "    (11, 13, 'O'),\n",
              "    (94, 97, 'O'),\n",
              "    (98, 105, 'O'),\n",
              "    (14, 16, 'O'),\n",
              "    (109, 112, 'O'),\n",
              "    (113, 116, 'O'),\n",
              "    (59, 64, 'O'),\n",
              "    (123, 126, 'O'),\n",
              "    (127, 132, 'O'),\n",
              "    (77, 80, 'O'),\n",
              "    (137, 141, 'O'),\n",
              "    (142, 147, 'O'),\n",
              "    (148, 152, 'O'),\n",
              "    (39, 45, 'O'),\n",
              "    (48, 54, 'O'),\n",
              "    (167, 173, 'O'),\n",
              "    (174, 179, 'O'),\n",
              "    (180, 183, 'O'),\n",
              "    (184, 186, 'O'),\n",
              "    (187, 193, 'O'),\n",
              "    (194, 198, 'O'),\n",
              "    (113, 116, 'O'),\n",
              "    (203, 206, 'O'),\n",
              "    (207, 212, 'O'),\n",
              "    (213, 218, 'O')]})]"
            ]
          },
          "metadata": {},
          "execution_count": 10
        }
      ]
    },
    {
      "cell_type": "code",
      "source": [
        "import pandas as pd\n",
        "df = pd.DataFrame.from_dict(word2label.items())\n",
        "\n",
        "# Print the DataFrame\n",
        "df"
      ],
      "metadata": {
        "colab": {
          "base_uri": "https://localhost:8080/",
          "height": 423
        },
        "id": "x8uQjP0tKkz-",
        "outputId": "fad1389a-2776-4ad8-ef7c-4f80d7e84873"
      },
      "execution_count": 11,
      "outputs": [
        {
          "output_type": "execute_result",
          "data": {
            "text/plain": [
              "               0      1\n",
              "0      فرانكفورت  B-LOC\n",
              "1             (د      O\n",
              "2              ب      O\n",
              "3             أ)      O\n",
              "4           أعلن      O\n",
              "...          ...    ...\n",
              "29247    سيشترون      O\n",
              "29248   بمقدورهم      O\n",
              "29249    سيارتهم      O\n",
              "29250      مثبتة      O\n",
              "29251     المصنع      O\n",
              "\n",
              "[29252 rows x 2 columns]"
            ],
            "text/html": [
              "\n",
              "  <div id=\"df-4a088ea5-4e41-43ec-892c-5eb365f24b42\">\n",
              "    <div class=\"colab-df-container\">\n",
              "      <div>\n",
              "<style scoped>\n",
              "    .dataframe tbody tr th:only-of-type {\n",
              "        vertical-align: middle;\n",
              "    }\n",
              "\n",
              "    .dataframe tbody tr th {\n",
              "        vertical-align: top;\n",
              "    }\n",
              "\n",
              "    .dataframe thead th {\n",
              "        text-align: right;\n",
              "    }\n",
              "</style>\n",
              "<table border=\"1\" class=\"dataframe\">\n",
              "  <thead>\n",
              "    <tr style=\"text-align: right;\">\n",
              "      <th></th>\n",
              "      <th>0</th>\n",
              "      <th>1</th>\n",
              "    </tr>\n",
              "  </thead>\n",
              "  <tbody>\n",
              "    <tr>\n",
              "      <th>0</th>\n",
              "      <td>فرانكفورت</td>\n",
              "      <td>B-LOC</td>\n",
              "    </tr>\n",
              "    <tr>\n",
              "      <th>1</th>\n",
              "      <td>(د</td>\n",
              "      <td>O</td>\n",
              "    </tr>\n",
              "    <tr>\n",
              "      <th>2</th>\n",
              "      <td>ب</td>\n",
              "      <td>O</td>\n",
              "    </tr>\n",
              "    <tr>\n",
              "      <th>3</th>\n",
              "      <td>أ)</td>\n",
              "      <td>O</td>\n",
              "    </tr>\n",
              "    <tr>\n",
              "      <th>4</th>\n",
              "      <td>أعلن</td>\n",
              "      <td>O</td>\n",
              "    </tr>\n",
              "    <tr>\n",
              "      <th>...</th>\n",
              "      <td>...</td>\n",
              "      <td>...</td>\n",
              "    </tr>\n",
              "    <tr>\n",
              "      <th>29247</th>\n",
              "      <td>سيشترون</td>\n",
              "      <td>O</td>\n",
              "    </tr>\n",
              "    <tr>\n",
              "      <th>29248</th>\n",
              "      <td>بمقدورهم</td>\n",
              "      <td>O</td>\n",
              "    </tr>\n",
              "    <tr>\n",
              "      <th>29249</th>\n",
              "      <td>سيارتهم</td>\n",
              "      <td>O</td>\n",
              "    </tr>\n",
              "    <tr>\n",
              "      <th>29250</th>\n",
              "      <td>مثبتة</td>\n",
              "      <td>O</td>\n",
              "    </tr>\n",
              "    <tr>\n",
              "      <th>29251</th>\n",
              "      <td>المصنع</td>\n",
              "      <td>O</td>\n",
              "    </tr>\n",
              "  </tbody>\n",
              "</table>\n",
              "<p>29252 rows × 2 columns</p>\n",
              "</div>\n",
              "      <button class=\"colab-df-convert\" onclick=\"convertToInteractive('df-4a088ea5-4e41-43ec-892c-5eb365f24b42')\"\n",
              "              title=\"Convert this dataframe to an interactive table.\"\n",
              "              style=\"display:none;\">\n",
              "        \n",
              "  <svg xmlns=\"http://www.w3.org/2000/svg\" height=\"24px\"viewBox=\"0 0 24 24\"\n",
              "       width=\"24px\">\n",
              "    <path d=\"M0 0h24v24H0V0z\" fill=\"none\"/>\n",
              "    <path d=\"M18.56 5.44l.94 2.06.94-2.06 2.06-.94-2.06-.94-.94-2.06-.94 2.06-2.06.94zm-11 1L8.5 8.5l.94-2.06 2.06-.94-2.06-.94L8.5 2.5l-.94 2.06-2.06.94zm10 10l.94 2.06.94-2.06 2.06-.94-2.06-.94-.94-2.06-.94 2.06-2.06.94z\"/><path d=\"M17.41 7.96l-1.37-1.37c-.4-.4-.92-.59-1.43-.59-.52 0-1.04.2-1.43.59L10.3 9.45l-7.72 7.72c-.78.78-.78 2.05 0 2.83L4 21.41c.39.39.9.59 1.41.59.51 0 1.02-.2 1.41-.59l7.78-7.78 2.81-2.81c.8-.78.8-2.07 0-2.86zM5.41 20L4 18.59l7.72-7.72 1.47 1.35L5.41 20z\"/>\n",
              "  </svg>\n",
              "      </button>\n",
              "      \n",
              "  <style>\n",
              "    .colab-df-container {\n",
              "      display:flex;\n",
              "      flex-wrap:wrap;\n",
              "      gap: 12px;\n",
              "    }\n",
              "\n",
              "    .colab-df-convert {\n",
              "      background-color: #E8F0FE;\n",
              "      border: none;\n",
              "      border-radius: 50%;\n",
              "      cursor: pointer;\n",
              "      display: none;\n",
              "      fill: #1967D2;\n",
              "      height: 32px;\n",
              "      padding: 0 0 0 0;\n",
              "      width: 32px;\n",
              "    }\n",
              "\n",
              "    .colab-df-convert:hover {\n",
              "      background-color: #E2EBFA;\n",
              "      box-shadow: 0px 1px 2px rgba(60, 64, 67, 0.3), 0px 1px 3px 1px rgba(60, 64, 67, 0.15);\n",
              "      fill: #174EA6;\n",
              "    }\n",
              "\n",
              "    [theme=dark] .colab-df-convert {\n",
              "      background-color: #3B4455;\n",
              "      fill: #D2E3FC;\n",
              "    }\n",
              "\n",
              "    [theme=dark] .colab-df-convert:hover {\n",
              "      background-color: #434B5C;\n",
              "      box-shadow: 0px 1px 3px 1px rgba(0, 0, 0, 0.15);\n",
              "      filter: drop-shadow(0px 1px 2px rgba(0, 0, 0, 0.3));\n",
              "      fill: #FFFFFF;\n",
              "    }\n",
              "  </style>\n",
              "\n",
              "      <script>\n",
              "        const buttonEl =\n",
              "          document.querySelector('#df-4a088ea5-4e41-43ec-892c-5eb365f24b42 button.colab-df-convert');\n",
              "        buttonEl.style.display =\n",
              "          google.colab.kernel.accessAllowed ? 'block' : 'none';\n",
              "\n",
              "        async function convertToInteractive(key) {\n",
              "          const element = document.querySelector('#df-4a088ea5-4e41-43ec-892c-5eb365f24b42');\n",
              "          const dataTable =\n",
              "            await google.colab.kernel.invokeFunction('convertToInteractive',\n",
              "                                                     [key], {});\n",
              "          if (!dataTable) return;\n",
              "\n",
              "          const docLinkHtml = 'Like what you see? Visit the ' +\n",
              "            '<a target=\"_blank\" href=https://colab.research.google.com/notebooks/data_table.ipynb>data table notebook</a>'\n",
              "            + ' to learn more about interactive tables.';\n",
              "          element.innerHTML = '';\n",
              "          dataTable['output_type'] = 'display_data';\n",
              "          await google.colab.output.renderOutput(dataTable, element);\n",
              "          const docLink = document.createElement('div');\n",
              "          docLink.innerHTML = docLinkHtml;\n",
              "          element.appendChild(docLink);\n",
              "        }\n",
              "      </script>\n",
              "    </div>\n",
              "  </div>\n",
              "  "
            ]
          },
          "metadata": {},
          "execution_count": 11
        }
      ]
    },
    {
      "cell_type": "code",
      "source": [
        "df.columns = [\"text\", \"label\"]"
      ],
      "metadata": {
        "id": "NFK_09SKMcgS"
      },
      "execution_count": 12,
      "outputs": []
    },
    {
      "cell_type": "code",
      "source": [
        "df"
      ],
      "metadata": {
        "colab": {
          "base_uri": "https://localhost:8080/",
          "height": 423
        },
        "id": "uCWUGBodMogL",
        "outputId": "769d1de2-3c1e-468f-bd30-67e5236413f2"
      },
      "execution_count": 13,
      "outputs": [
        {
          "output_type": "execute_result",
          "data": {
            "text/plain": [
              "            text  label\n",
              "0      فرانكفورت  B-LOC\n",
              "1             (د      O\n",
              "2              ب      O\n",
              "3             أ)      O\n",
              "4           أعلن      O\n",
              "...          ...    ...\n",
              "29247    سيشترون      O\n",
              "29248   بمقدورهم      O\n",
              "29249    سيارتهم      O\n",
              "29250      مثبتة      O\n",
              "29251     المصنع      O\n",
              "\n",
              "[29252 rows x 2 columns]"
            ],
            "text/html": [
              "\n",
              "  <div id=\"df-6f4bdad6-928b-4a1d-b5aa-fed145eaeb5c\">\n",
              "    <div class=\"colab-df-container\">\n",
              "      <div>\n",
              "<style scoped>\n",
              "    .dataframe tbody tr th:only-of-type {\n",
              "        vertical-align: middle;\n",
              "    }\n",
              "\n",
              "    .dataframe tbody tr th {\n",
              "        vertical-align: top;\n",
              "    }\n",
              "\n",
              "    .dataframe thead th {\n",
              "        text-align: right;\n",
              "    }\n",
              "</style>\n",
              "<table border=\"1\" class=\"dataframe\">\n",
              "  <thead>\n",
              "    <tr style=\"text-align: right;\">\n",
              "      <th></th>\n",
              "      <th>text</th>\n",
              "      <th>label</th>\n",
              "    </tr>\n",
              "  </thead>\n",
              "  <tbody>\n",
              "    <tr>\n",
              "      <th>0</th>\n",
              "      <td>فرانكفورت</td>\n",
              "      <td>B-LOC</td>\n",
              "    </tr>\n",
              "    <tr>\n",
              "      <th>1</th>\n",
              "      <td>(د</td>\n",
              "      <td>O</td>\n",
              "    </tr>\n",
              "    <tr>\n",
              "      <th>2</th>\n",
              "      <td>ب</td>\n",
              "      <td>O</td>\n",
              "    </tr>\n",
              "    <tr>\n",
              "      <th>3</th>\n",
              "      <td>أ)</td>\n",
              "      <td>O</td>\n",
              "    </tr>\n",
              "    <tr>\n",
              "      <th>4</th>\n",
              "      <td>أعلن</td>\n",
              "      <td>O</td>\n",
              "    </tr>\n",
              "    <tr>\n",
              "      <th>...</th>\n",
              "      <td>...</td>\n",
              "      <td>...</td>\n",
              "    </tr>\n",
              "    <tr>\n",
              "      <th>29247</th>\n",
              "      <td>سيشترون</td>\n",
              "      <td>O</td>\n",
              "    </tr>\n",
              "    <tr>\n",
              "      <th>29248</th>\n",
              "      <td>بمقدورهم</td>\n",
              "      <td>O</td>\n",
              "    </tr>\n",
              "    <tr>\n",
              "      <th>29249</th>\n",
              "      <td>سيارتهم</td>\n",
              "      <td>O</td>\n",
              "    </tr>\n",
              "    <tr>\n",
              "      <th>29250</th>\n",
              "      <td>مثبتة</td>\n",
              "      <td>O</td>\n",
              "    </tr>\n",
              "    <tr>\n",
              "      <th>29251</th>\n",
              "      <td>المصنع</td>\n",
              "      <td>O</td>\n",
              "    </tr>\n",
              "  </tbody>\n",
              "</table>\n",
              "<p>29252 rows × 2 columns</p>\n",
              "</div>\n",
              "      <button class=\"colab-df-convert\" onclick=\"convertToInteractive('df-6f4bdad6-928b-4a1d-b5aa-fed145eaeb5c')\"\n",
              "              title=\"Convert this dataframe to an interactive table.\"\n",
              "              style=\"display:none;\">\n",
              "        \n",
              "  <svg xmlns=\"http://www.w3.org/2000/svg\" height=\"24px\"viewBox=\"0 0 24 24\"\n",
              "       width=\"24px\">\n",
              "    <path d=\"M0 0h24v24H0V0z\" fill=\"none\"/>\n",
              "    <path d=\"M18.56 5.44l.94 2.06.94-2.06 2.06-.94-2.06-.94-.94-2.06-.94 2.06-2.06.94zm-11 1L8.5 8.5l.94-2.06 2.06-.94-2.06-.94L8.5 2.5l-.94 2.06-2.06.94zm10 10l.94 2.06.94-2.06 2.06-.94-2.06-.94-.94-2.06-.94 2.06-2.06.94z\"/><path d=\"M17.41 7.96l-1.37-1.37c-.4-.4-.92-.59-1.43-.59-.52 0-1.04.2-1.43.59L10.3 9.45l-7.72 7.72c-.78.78-.78 2.05 0 2.83L4 21.41c.39.39.9.59 1.41.59.51 0 1.02-.2 1.41-.59l7.78-7.78 2.81-2.81c.8-.78.8-2.07 0-2.86zM5.41 20L4 18.59l7.72-7.72 1.47 1.35L5.41 20z\"/>\n",
              "  </svg>\n",
              "      </button>\n",
              "      \n",
              "  <style>\n",
              "    .colab-df-container {\n",
              "      display:flex;\n",
              "      flex-wrap:wrap;\n",
              "      gap: 12px;\n",
              "    }\n",
              "\n",
              "    .colab-df-convert {\n",
              "      background-color: #E8F0FE;\n",
              "      border: none;\n",
              "      border-radius: 50%;\n",
              "      cursor: pointer;\n",
              "      display: none;\n",
              "      fill: #1967D2;\n",
              "      height: 32px;\n",
              "      padding: 0 0 0 0;\n",
              "      width: 32px;\n",
              "    }\n",
              "\n",
              "    .colab-df-convert:hover {\n",
              "      background-color: #E2EBFA;\n",
              "      box-shadow: 0px 1px 2px rgba(60, 64, 67, 0.3), 0px 1px 3px 1px rgba(60, 64, 67, 0.15);\n",
              "      fill: #174EA6;\n",
              "    }\n",
              "\n",
              "    [theme=dark] .colab-df-convert {\n",
              "      background-color: #3B4455;\n",
              "      fill: #D2E3FC;\n",
              "    }\n",
              "\n",
              "    [theme=dark] .colab-df-convert:hover {\n",
              "      background-color: #434B5C;\n",
              "      box-shadow: 0px 1px 3px 1px rgba(0, 0, 0, 0.15);\n",
              "      filter: drop-shadow(0px 1px 2px rgba(0, 0, 0, 0.3));\n",
              "      fill: #FFFFFF;\n",
              "    }\n",
              "  </style>\n",
              "\n",
              "      <script>\n",
              "        const buttonEl =\n",
              "          document.querySelector('#df-6f4bdad6-928b-4a1d-b5aa-fed145eaeb5c button.colab-df-convert');\n",
              "        buttonEl.style.display =\n",
              "          google.colab.kernel.accessAllowed ? 'block' : 'none';\n",
              "\n",
              "        async function convertToInteractive(key) {\n",
              "          const element = document.querySelector('#df-6f4bdad6-928b-4a1d-b5aa-fed145eaeb5c');\n",
              "          const dataTable =\n",
              "            await google.colab.kernel.invokeFunction('convertToInteractive',\n",
              "                                                     [key], {});\n",
              "          if (!dataTable) return;\n",
              "\n",
              "          const docLinkHtml = 'Like what you see? Visit the ' +\n",
              "            '<a target=\"_blank\" href=https://colab.research.google.com/notebooks/data_table.ipynb>data table notebook</a>'\n",
              "            + ' to learn more about interactive tables.';\n",
              "          element.innerHTML = '';\n",
              "          dataTable['output_type'] = 'display_data';\n",
              "          await google.colab.output.renderOutput(dataTable, element);\n",
              "          const docLink = document.createElement('div');\n",
              "          docLink.innerHTML = docLinkHtml;\n",
              "          element.appendChild(docLink);\n",
              "        }\n",
              "      </script>\n",
              "    </div>\n",
              "  </div>\n",
              "  "
            ]
          },
          "metadata": {},
          "execution_count": 13
        }
      ]
    },
    {
      "cell_type": "code",
      "source": [
        "df.to_csv('output_train.csv', index=False)"
      ],
      "metadata": {
        "id": "ZBMAx_xLsHnW"
      },
      "execution_count": 14,
      "outputs": []
    },
    {
      "cell_type": "code",
      "source": [
        "from sklearn.model_selection import train_test_split\n",
        "\n",
        "train, test = train_test_split(df, test_size = 0.2)\n",
        "train_arr = []\n",
        "test_arr = []\n",
        "train_lbl = []\n",
        "test_lbl = []"
      ],
      "metadata": {
        "id": "SXhujQhOMpGj"
      },
      "execution_count": 15,
      "outputs": []
    },
    {
      "cell_type": "code",
      "source": [
        "train_arr=train['text'].astype(str)\n",
        "train_lbl=train['label'].astype(str)\n",
        "test_arr=test['text'].astype(str)\n",
        "test_lbl=test['label'].astype(str)"
      ],
      "metadata": {
        "id": "t9Cb0h8-Mu11"
      },
      "execution_count": 16,
      "outputs": []
    },
    {
      "cell_type": "code",
      "source": [
        "from sklearn.feature_extraction.text import CountVectorizer, TfidfTransformer,TfidfVectorizer"
      ],
      "metadata": {
        "id": "rRnFZByOMy6D"
      },
      "execution_count": 17,
      "outputs": []
    },
    {
      "cell_type": "code",
      "source": [
        "vectorizer = CountVectorizer()\n",
        "vectorizer.fit(train_arr)\n",
        "train_mat = vectorizer.transform(train_arr)"
      ],
      "metadata": {
        "id": "EdLPur_wM05U"
      },
      "execution_count": 18,
      "outputs": []
    },
    {
      "cell_type": "code",
      "source": [
        "tfidf = TfidfTransformer()\n",
        "tfidf.fit(train_mat)\n",
        "train_tfmat = tfidf.transform(train_mat)"
      ],
      "metadata": {
        "id": "U9fPSHm0M3tj"
      },
      "execution_count": 19,
      "outputs": []
    },
    {
      "cell_type": "code",
      "source": [
        "test_mat = vectorizer.transform(test_arr)\n",
        "test_tfmat = tfidf.transform(test_mat)"
      ],
      "metadata": {
        "id": "AwjdurnBM5mD"
      },
      "execution_count": 20,
      "outputs": []
    },
    {
      "cell_type": "code",
      "source": [
        "del df\n",
        "del test_arr\n",
        "del train_arr"
      ],
      "metadata": {
        "id": "CaqZVN5gM7zQ"
      },
      "execution_count": 21,
      "outputs": []
    },
    {
      "cell_type": "code",
      "source": [
        "from sklearn.naive_bayes import BernoulliNB, GaussianNB, MultinomialNB\n",
        "train_tfmat"
      ],
      "metadata": {
        "colab": {
          "base_uri": "https://localhost:8080/"
        },
        "id": "4B2_sl4XM_Qd",
        "outputId": "b693e97a-8bc9-4bb6-e228-2c6ac656920f"
      },
      "execution_count": 22,
      "outputs": [
        {
          "output_type": "execute_result",
          "data": {
            "text/plain": [
              "<23401x23122 sparse matrix of type '<class 'numpy.float64'>'\n",
              "\twith 23381 stored elements in Compressed Sparse Row format>"
            ]
          },
          "metadata": {},
          "execution_count": 22
        }
      ]
    },
    {
      "cell_type": "code",
      "source": [
        "from sklearn.svm import LinearSVC"
      ],
      "metadata": {
        "id": "UEICjDv_NDIm"
      },
      "execution_count": 23,
      "outputs": []
    },
    {
      "cell_type": "code",
      "source": [
        "lsvm=LinearSVC()\n",
        "lsvm.fit(train_tfmat,train_lbl)"
      ],
      "metadata": {
        "colab": {
          "base_uri": "https://localhost:8080/",
          "height": 74
        },
        "id": "Ce9xFVxrNGsV",
        "outputId": "3aa3f586-0f06-47a9-a2c7-93a3b1706ab0"
      },
      "execution_count": 24,
      "outputs": [
        {
          "output_type": "execute_result",
          "data": {
            "text/plain": [
              "LinearSVC()"
            ],
            "text/html": [
              "<style>#sk-container-id-1 {color: black;background-color: white;}#sk-container-id-1 pre{padding: 0;}#sk-container-id-1 div.sk-toggleable {background-color: white;}#sk-container-id-1 label.sk-toggleable__label {cursor: pointer;display: block;width: 100%;margin-bottom: 0;padding: 0.3em;box-sizing: border-box;text-align: center;}#sk-container-id-1 label.sk-toggleable__label-arrow:before {content: \"▸\";float: left;margin-right: 0.25em;color: #696969;}#sk-container-id-1 label.sk-toggleable__label-arrow:hover:before {color: black;}#sk-container-id-1 div.sk-estimator:hover label.sk-toggleable__label-arrow:before {color: black;}#sk-container-id-1 div.sk-toggleable__content {max-height: 0;max-width: 0;overflow: hidden;text-align: left;background-color: #f0f8ff;}#sk-container-id-1 div.sk-toggleable__content pre {margin: 0.2em;color: black;border-radius: 0.25em;background-color: #f0f8ff;}#sk-container-id-1 input.sk-toggleable__control:checked~div.sk-toggleable__content {max-height: 200px;max-width: 100%;overflow: auto;}#sk-container-id-1 input.sk-toggleable__control:checked~label.sk-toggleable__label-arrow:before {content: \"▾\";}#sk-container-id-1 div.sk-estimator input.sk-toggleable__control:checked~label.sk-toggleable__label {background-color: #d4ebff;}#sk-container-id-1 div.sk-label input.sk-toggleable__control:checked~label.sk-toggleable__label {background-color: #d4ebff;}#sk-container-id-1 input.sk-hidden--visually {border: 0;clip: rect(1px 1px 1px 1px);clip: rect(1px, 1px, 1px, 1px);height: 1px;margin: -1px;overflow: hidden;padding: 0;position: absolute;width: 1px;}#sk-container-id-1 div.sk-estimator {font-family: monospace;background-color: #f0f8ff;border: 1px dotted black;border-radius: 0.25em;box-sizing: border-box;margin-bottom: 0.5em;}#sk-container-id-1 div.sk-estimator:hover {background-color: #d4ebff;}#sk-container-id-1 div.sk-parallel-item::after {content: \"\";width: 100%;border-bottom: 1px solid gray;flex-grow: 1;}#sk-container-id-1 div.sk-label:hover label.sk-toggleable__label {background-color: #d4ebff;}#sk-container-id-1 div.sk-serial::before {content: \"\";position: absolute;border-left: 1px solid gray;box-sizing: border-box;top: 0;bottom: 0;left: 50%;z-index: 0;}#sk-container-id-1 div.sk-serial {display: flex;flex-direction: column;align-items: center;background-color: white;padding-right: 0.2em;padding-left: 0.2em;position: relative;}#sk-container-id-1 div.sk-item {position: relative;z-index: 1;}#sk-container-id-1 div.sk-parallel {display: flex;align-items: stretch;justify-content: center;background-color: white;position: relative;}#sk-container-id-1 div.sk-item::before, #sk-container-id-1 div.sk-parallel-item::before {content: \"\";position: absolute;border-left: 1px solid gray;box-sizing: border-box;top: 0;bottom: 0;left: 50%;z-index: -1;}#sk-container-id-1 div.sk-parallel-item {display: flex;flex-direction: column;z-index: 1;position: relative;background-color: white;}#sk-container-id-1 div.sk-parallel-item:first-child::after {align-self: flex-end;width: 50%;}#sk-container-id-1 div.sk-parallel-item:last-child::after {align-self: flex-start;width: 50%;}#sk-container-id-1 div.sk-parallel-item:only-child::after {width: 0;}#sk-container-id-1 div.sk-dashed-wrapped {border: 1px dashed gray;margin: 0 0.4em 0.5em 0.4em;box-sizing: border-box;padding-bottom: 0.4em;background-color: white;}#sk-container-id-1 div.sk-label label {font-family: monospace;font-weight: bold;display: inline-block;line-height: 1.2em;}#sk-container-id-1 div.sk-label-container {text-align: center;}#sk-container-id-1 div.sk-container {/* jupyter's `normalize.less` sets `[hidden] { display: none; }` but bootstrap.min.css set `[hidden] { display: none !important; }` so we also need the `!important` here to be able to override the default hidden behavior on the sphinx rendered scikit-learn.org. See: https://github.com/scikit-learn/scikit-learn/issues/21755 */display: inline-block !important;position: relative;}#sk-container-id-1 div.sk-text-repr-fallback {display: none;}</style><div id=\"sk-container-id-1\" class=\"sk-top-container\"><div class=\"sk-text-repr-fallback\"><pre>LinearSVC()</pre><b>In a Jupyter environment, please rerun this cell to show the HTML representation or trust the notebook. <br />On GitHub, the HTML representation is unable to render, please try loading this page with nbviewer.org.</b></div><div class=\"sk-container\" hidden><div class=\"sk-item\"><div class=\"sk-estimator sk-toggleable\"><input class=\"sk-toggleable__control sk-hidden--visually\" id=\"sk-estimator-id-1\" type=\"checkbox\" checked><label for=\"sk-estimator-id-1\" class=\"sk-toggleable__label sk-toggleable__label-arrow\">LinearSVC</label><div class=\"sk-toggleable__content\"><pre>LinearSVC()</pre></div></div></div></div></div>"
            ]
          },
          "metadata": {},
          "execution_count": 24
        }
      ]
    },
    {
      "cell_type": "code",
      "source": [
        "txt = \"تويوتا\"\n",
        "vec = txt.split()"
      ],
      "metadata": {
        "id": "kpJ2PHmVNKyH"
      },
      "execution_count": 29,
      "outputs": []
    },
    {
      "cell_type": "code",
      "source": [
        "vec"
      ],
      "metadata": {
        "colab": {
          "base_uri": "https://localhost:8080/"
        },
        "id": "EwKeZ5wyNPWs",
        "outputId": "11eeca56-88d3-4142-8c72-9c3d3150ce87"
      },
      "execution_count": 30,
      "outputs": [
        {
          "output_type": "execute_result",
          "data": {
            "text/plain": [
              "['تويوتا']"
            ]
          },
          "metadata": {},
          "execution_count": 30
        }
      ]
    },
    {
      "cell_type": "code",
      "source": [
        "import sys\n",
        "y=[]\n",
        "token=[]\n",
        "for x in vec:\n",
        "    x=[x]\n",
        "    test_str = vectorizer.transform(x)\n",
        "    test_tfstr = tfidf.transform(test_str)\n",
        "    test_tfstr.shape\n",
        "    token.append(x)\n",
        "    y.append(lsvm.predict(test_tfstr.toarray())[0])"
      ],
      "metadata": {
        "id": "EpQO3nyjNXQ0"
      },
      "execution_count": 31,
      "outputs": []
    },
    {
      "cell_type": "code",
      "source": [
        "df=pd.DataFrame(list(zip(token,y)),columns=['text','label'])\n",
        "df"
      ],
      "metadata": {
        "colab": {
          "base_uri": "https://localhost:8080/",
          "height": 81
        },
        "id": "ym3z27KoNZ6U",
        "outputId": "c15ed153-fbf1-4ec3-9227-d765bf91cad1"
      },
      "execution_count": 32,
      "outputs": [
        {
          "output_type": "execute_result",
          "data": {
            "text/plain": [
              "       text  label\n",
              "0  [تويوتا]  B-ORG"
            ],
            "text/html": [
              "\n",
              "  <div id=\"df-812d8941-58b2-4643-a544-1470610dee33\">\n",
              "    <div class=\"colab-df-container\">\n",
              "      <div>\n",
              "<style scoped>\n",
              "    .dataframe tbody tr th:only-of-type {\n",
              "        vertical-align: middle;\n",
              "    }\n",
              "\n",
              "    .dataframe tbody tr th {\n",
              "        vertical-align: top;\n",
              "    }\n",
              "\n",
              "    .dataframe thead th {\n",
              "        text-align: right;\n",
              "    }\n",
              "</style>\n",
              "<table border=\"1\" class=\"dataframe\">\n",
              "  <thead>\n",
              "    <tr style=\"text-align: right;\">\n",
              "      <th></th>\n",
              "      <th>text</th>\n",
              "      <th>label</th>\n",
              "    </tr>\n",
              "  </thead>\n",
              "  <tbody>\n",
              "    <tr>\n",
              "      <th>0</th>\n",
              "      <td>[تويوتا]</td>\n",
              "      <td>B-ORG</td>\n",
              "    </tr>\n",
              "  </tbody>\n",
              "</table>\n",
              "</div>\n",
              "      <button class=\"colab-df-convert\" onclick=\"convertToInteractive('df-812d8941-58b2-4643-a544-1470610dee33')\"\n",
              "              title=\"Convert this dataframe to an interactive table.\"\n",
              "              style=\"display:none;\">\n",
              "        \n",
              "  <svg xmlns=\"http://www.w3.org/2000/svg\" height=\"24px\"viewBox=\"0 0 24 24\"\n",
              "       width=\"24px\">\n",
              "    <path d=\"M0 0h24v24H0V0z\" fill=\"none\"/>\n",
              "    <path d=\"M18.56 5.44l.94 2.06.94-2.06 2.06-.94-2.06-.94-.94-2.06-.94 2.06-2.06.94zm-11 1L8.5 8.5l.94-2.06 2.06-.94-2.06-.94L8.5 2.5l-.94 2.06-2.06.94zm10 10l.94 2.06.94-2.06 2.06-.94-2.06-.94-.94-2.06-.94 2.06-2.06.94z\"/><path d=\"M17.41 7.96l-1.37-1.37c-.4-.4-.92-.59-1.43-.59-.52 0-1.04.2-1.43.59L10.3 9.45l-7.72 7.72c-.78.78-.78 2.05 0 2.83L4 21.41c.39.39.9.59 1.41.59.51 0 1.02-.2 1.41-.59l7.78-7.78 2.81-2.81c.8-.78.8-2.07 0-2.86zM5.41 20L4 18.59l7.72-7.72 1.47 1.35L5.41 20z\"/>\n",
              "  </svg>\n",
              "      </button>\n",
              "      \n",
              "  <style>\n",
              "    .colab-df-container {\n",
              "      display:flex;\n",
              "      flex-wrap:wrap;\n",
              "      gap: 12px;\n",
              "    }\n",
              "\n",
              "    .colab-df-convert {\n",
              "      background-color: #E8F0FE;\n",
              "      border: none;\n",
              "      border-radius: 50%;\n",
              "      cursor: pointer;\n",
              "      display: none;\n",
              "      fill: #1967D2;\n",
              "      height: 32px;\n",
              "      padding: 0 0 0 0;\n",
              "      width: 32px;\n",
              "    }\n",
              "\n",
              "    .colab-df-convert:hover {\n",
              "      background-color: #E2EBFA;\n",
              "      box-shadow: 0px 1px 2px rgba(60, 64, 67, 0.3), 0px 1px 3px 1px rgba(60, 64, 67, 0.15);\n",
              "      fill: #174EA6;\n",
              "    }\n",
              "\n",
              "    [theme=dark] .colab-df-convert {\n",
              "      background-color: #3B4455;\n",
              "      fill: #D2E3FC;\n",
              "    }\n",
              "\n",
              "    [theme=dark] .colab-df-convert:hover {\n",
              "      background-color: #434B5C;\n",
              "      box-shadow: 0px 1px 3px 1px rgba(0, 0, 0, 0.15);\n",
              "      filter: drop-shadow(0px 1px 2px rgba(0, 0, 0, 0.3));\n",
              "      fill: #FFFFFF;\n",
              "    }\n",
              "  </style>\n",
              "\n",
              "      <script>\n",
              "        const buttonEl =\n",
              "          document.querySelector('#df-812d8941-58b2-4643-a544-1470610dee33 button.colab-df-convert');\n",
              "        buttonEl.style.display =\n",
              "          google.colab.kernel.accessAllowed ? 'block' : 'none';\n",
              "\n",
              "        async function convertToInteractive(key) {\n",
              "          const element = document.querySelector('#df-812d8941-58b2-4643-a544-1470610dee33');\n",
              "          const dataTable =\n",
              "            await google.colab.kernel.invokeFunction('convertToInteractive',\n",
              "                                                     [key], {});\n",
              "          if (!dataTable) return;\n",
              "\n",
              "          const docLinkHtml = 'Like what you see? Visit the ' +\n",
              "            '<a target=\"_blank\" href=https://colab.research.google.com/notebooks/data_table.ipynb>data table notebook</a>'\n",
              "            + ' to learn more about interactive tables.';\n",
              "          element.innerHTML = '';\n",
              "          dataTable['output_type'] = 'display_data';\n",
              "          await google.colab.output.renderOutput(dataTable, element);\n",
              "          const docLink = document.createElement('div');\n",
              "          docLink.innerHTML = docLinkHtml;\n",
              "          element.appendChild(docLink);\n",
              "        }\n",
              "      </script>\n",
              "    </div>\n",
              "  </div>\n",
              "  "
            ]
          },
          "metadata": {},
          "execution_count": 32
        }
      ]
    }
  ]
}